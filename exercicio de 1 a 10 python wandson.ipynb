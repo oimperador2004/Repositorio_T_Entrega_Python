{
 "cells": [
  {
   "cell_type": "code",
   "execution_count": 1,
   "id": "4a72724c",
   "metadata": {},
   "outputs": [
    {
     "name": "stdout",
     "output_type": "stream",
     "text": [
      "ola mundo\n"
     ]
    }
   ],
   "source": [
    "print(\"ola mundo\")"
   ]
  },
  {
   "cell_type": "code",
   "execution_count": 3,
   "id": "b667989b",
   "metadata": {},
   "outputs": [
    {
     "name": "stdout",
     "output_type": "stream",
     "text": [
      "SEJA BEM VINDO WANDSON\n"
     ]
    }
   ],
   "source": [
    "print(\"SEJA BEM VINDO WANDSON\")"
   ]
  },
  {
   "cell_type": "code",
   "execution_count": 6,
   "id": "d3fa5b69",
   "metadata": {},
   "outputs": [
    {
     "data": {
      "text/plain": [
       "5"
      ]
     },
     "execution_count": 6,
     "metadata": {},
     "output_type": "execute_result"
    }
   ],
   "source": [
    "#soma\n",
    "2+3"
   ]
  },
  {
   "cell_type": "code",
   "execution_count": 7,
   "id": "7a604d00",
   "metadata": {},
   "outputs": [
    {
     "name": "stdout",
     "output_type": "stream",
     "text": [
      "5\n"
     ]
    }
   ],
   "source": [
    "a=2#(1)\n",
    "b=3#(2)\n",
    "print(a+b)  #3"
   ]
  },
  {
   "cell_type": "code",
   "execution_count": 8,
   "id": "89eca314",
   "metadata": {},
   "outputs": [
    {
     "name": "stdout",
     "output_type": "stream",
     "text": [
      "2460.0\n"
     ]
    }
   ],
   "source": [
    "salario = 1500 #(1)\n",
    "aumento =9 #(2)\n",
    "print(salario+(salario*aumento/100)+150*22/4)"
   ]
  },
  {
   "cell_type": "code",
   "execution_count": 9,
   "id": "2d19cb58",
   "metadata": {},
   "outputs": [
    {
     "name": "stdout",
     "output_type": "stream",
     "text": [
      "a==b? False\n",
      "b> a ? True\n",
      " a < b ?,a < b \n"
     ]
    }
   ],
   "source": [
    "a = 1 # a recebe 1\n",
    "b =5 # b recebe 5\n",
    "c= 2 #c recebe 2\n",
    "d=1 #d recebe 1\n",
    "print (\"a==b?\",a==b)#a e igual a b?\n",
    "print ( \"b> a ?\",b >a)#b e maior que a?\n",
    "print (\" a < b ?\"\",a < b \") # a e mnor que b?\n"
   ]
  },
  {
   "cell_type": "code",
   "execution_count": 10,
   "id": "44abb5b7",
   "metadata": {},
   "outputs": [
    {
     "ename": "IndentationError",
     "evalue": "unexpected indent (Temp/ipykernel_5016/3627836014.py, line 5)",
     "output_type": "error",
     "traceback": [
      "\u001b[1;36m  File \u001b[1;32m\"C:\\Users\\aluno03\\AppData\\Local\\Temp/ipykernel_5016/3627836014.py\"\u001b[1;36m, line \u001b[1;32m5\u001b[0m\n\u001b[1;33m    print (\"--------operador not------\")\u001b[0m\n\u001b[1;37m    ^\u001b[0m\n\u001b[1;31mIndentationError\u001b[0m\u001b[1;31m:\u001b[0m unexpected indent\n"
     ]
    }
   ],
   "source": [
    "v1 =2 > 1# true \n",
    "v2 = 3 > 1# true \n",
    "v3 = 3 < 1 #false \n",
    "v4 = 2 < 1 # false \n",
    " print (\"--------operador not------\")\n",
    "    print (v1,not (v1))\n",
    "    print ( v3,not(v3))\n",
    "    \n",
    "    print (\"\\N|N---------------OPERADOR AND( E )----------------------\")\n",
    "    print (v1 and v2) #true and true "
   ]
  },
  {
   "cell_type": "code",
   "execution_count": null,
   "id": "e695ad20",
   "metadata": {},
   "outputs": [],
   "source": []
  }
 ],
 "metadata": {
  "kernelspec": {
   "display_name": "Python 3 (ipykernel)",
   "language": "python",
   "name": "python3"
  },
  "language_info": {
   "codemirror_mode": {
    "name": "ipython",
    "version": 3
   },
   "file_extension": ".py",
   "mimetype": "text/x-python",
   "name": "python",
   "nbconvert_exporter": "python",
   "pygments_lexer": "ipython3",
   "version": "3.9.7"
  }
 },
 "nbformat": 4,
 "nbformat_minor": 5
}
